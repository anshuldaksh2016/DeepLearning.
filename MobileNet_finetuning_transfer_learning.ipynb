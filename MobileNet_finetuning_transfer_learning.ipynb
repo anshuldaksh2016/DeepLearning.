{
  "nbformat": 4,
  "nbformat_minor": 0,
  "metadata": {
    "colab": {
      "name": "MobileNet_finetuning_transfer learning.ipynb",
      "provenance": [],
      "collapsed_sections": [],
      "authorship_tag": "ABX9TyMfC0f0YQBqOXbB7/w+djBT",
      "include_colab_link": true
    },
    "kernelspec": {
      "name": "python3",
      "display_name": "Python 3"
    }
  },
  "cells": [
    {
      "cell_type": "markdown",
      "metadata": {
        "id": "view-in-github",
        "colab_type": "text"
      },
      "source": [
        "<a href=\"https://colab.research.google.com/github/anshuldaksh2016/DeepLearning./blob/master/MobileNet_finetuning_transfer_learning.ipynb\" target=\"_parent\"><img src=\"https://colab.research.google.com/assets/colab-badge.svg\" alt=\"Open In Colab\"/></a>"
      ]
    },
    {
      "cell_type": "code",
      "metadata": {
        "id": "ggtWSrNhW9Ft",
        "colab_type": "code",
        "colab": {}
      },
      "source": [
        "from keras.applications import MobileNet"
      ],
      "execution_count": 0,
      "outputs": []
    },
    {
      "cell_type": "code",
      "metadata": {
        "id": "OcSsle-QXNGS",
        "colab_type": "code",
        "colab": {
          "base_uri": "https://localhost:8080/",
          "height": 51
        },
        "outputId": "a23cec27-8b81-48c4-d1f9-f5edd89950df"
      },
      "source": [
        "model = MobileNet(weights='imagenet' , input_shape=(224,224,3) , include_top = False)"
      ],
      "execution_count": 44,
      "outputs": [
        {
          "output_type": "stream",
          "text": [
            "Downloading data from https://github.com/fchollet/deep-learning-models/releases/download/v0.6/mobilenet_1_0_224_tf_no_top.h5\n",
            "17227776/17225924 [==============================] - 0s 0us/step\n"
          ],
          "name": "stdout"
        }
      ]
    },
    {
      "cell_type": "code",
      "metadata": {
        "id": "u87lag5RXpAO",
        "colab_type": "code",
        "colab": {
          "base_uri": "https://localhost:8080/",
          "height": 1000
        },
        "outputId": "6fd79dc6-e662-4e4f-a088-e9b951a89edb"
      },
      "source": [
        "model.layers"
      ],
      "execution_count": 6,
      "outputs": [
        {
          "output_type": "execute_result",
          "data": {
            "text/plain": [
              "[<keras.engine.input_layer.InputLayer at 0x7f3db96f6048>,\n",
              " <keras.layers.convolutional.ZeroPadding2D at 0x7f3db96f60b8>,\n",
              " <keras.layers.convolutional.Conv2D at 0x7f3db96f6208>,\n",
              " <keras.layers.normalization.BatchNormalization at 0x7f3db96f6278>,\n",
              " <keras.layers.advanced_activations.ReLU at 0x7f3db96f6320>,\n",
              " <keras.layers.convolutional.DepthwiseConv2D at 0x7f3db96f6be0>,\n",
              " <keras.layers.normalization.BatchNormalization at 0x7f3db9707ba8>,\n",
              " <keras.layers.advanced_activations.ReLU at 0x7f3db969b240>,\n",
              " <keras.layers.convolutional.Conv2D at 0x7f3db96a0d68>,\n",
              " <keras.layers.normalization.BatchNormalization at 0x7f3db96a7438>,\n",
              " <keras.layers.advanced_activations.ReLU at 0x7f3db96bacf8>,\n",
              " <keras.layers.convolutional.ZeroPadding2D at 0x7f3db96a0a20>,\n",
              " <keras.layers.convolutional.DepthwiseConv2D at 0x7f3db96544e0>,\n",
              " <keras.layers.normalization.BatchNormalization at 0x7f3db966ab38>,\n",
              " <keras.layers.advanced_activations.ReLU at 0x7f3db9665668>,\n",
              " <keras.layers.convolutional.Conv2D at 0x7f3db9681a20>,\n",
              " <keras.layers.normalization.BatchNormalization at 0x7f3db9615eb8>,\n",
              " <keras.layers.advanced_activations.ReLU at 0x7f3db961bc50>,\n",
              " <keras.layers.convolutional.DepthwiseConv2D at 0x7f3db9630e80>,\n",
              " <keras.layers.normalization.BatchNormalization at 0x7f3db9648d30>,\n",
              " <keras.layers.advanced_activations.ReLU at 0x7f3db95d7c50>,\n",
              " <keras.layers.convolutional.Conv2D at 0x7f3db95e7b38>,\n",
              " <keras.layers.normalization.BatchNormalization at 0x7f3db95f9978>,\n",
              " <keras.layers.advanced_activations.ReLU at 0x7f3db95f94a8>,\n",
              " <keras.layers.convolutional.ZeroPadding2D at 0x7f3db9595c18>,\n",
              " <keras.layers.convolutional.DepthwiseConv2D at 0x7f3db9595b70>,\n",
              " <keras.layers.normalization.BatchNormalization at 0x7f3db95adf60>,\n",
              " <keras.layers.advanced_activations.ReLU at 0x7f3db95c4f60>,\n",
              " <keras.layers.convolutional.Conv2D at 0x7f3db95c97f0>,\n",
              " <keras.layers.normalization.BatchNormalization at 0x7f3db955d630>,\n",
              " <keras.layers.advanced_activations.ReLU at 0x7f3db955d160>,\n",
              " <keras.layers.convolutional.DepthwiseConv2D at 0x7f3db95798d0>,\n",
              " <keras.layers.normalization.BatchNormalization at 0x7f3db95792e8>,\n",
              " <keras.layers.advanced_activations.ReLU at 0x7f3db9521940>,\n",
              " <keras.layers.convolutional.Conv2D at 0x7f3db9526ac8>,\n",
              " <keras.layers.normalization.BatchNormalization at 0x7f3db9539b38>,\n",
              " <keras.layers.advanced_activations.ReLU at 0x7f3db9540cf8>,\n",
              " <keras.layers.convolutional.ZeroPadding2D at 0x7f3db94d7f28>,\n",
              " <keras.layers.convolutional.DepthwiseConv2D at 0x7f3db94d7e10>,\n",
              " <keras.layers.normalization.BatchNormalization at 0x7f3db94f3c88>,\n",
              " <keras.layers.advanced_activations.ReLU at 0x7f3db94fb470>,\n",
              " <keras.layers.convolutional.Conv2D at 0x7f3db9509e80>,\n",
              " <keras.layers.normalization.BatchNormalization at 0x7f3db949dcc0>,\n",
              " <keras.layers.advanced_activations.ReLU at 0x7f3db94a0ef0>,\n",
              " <keras.layers.convolutional.DepthwiseConv2D at 0x7f3db94b9f60>,\n",
              " <keras.layers.normalization.BatchNormalization at 0x7f3db9450d30>,\n",
              " <keras.layers.advanced_activations.ReLU at 0x7f3db9468cf8>,\n",
              " <keras.layers.convolutional.Conv2D at 0x7f3db94b9f28>,\n",
              " <keras.layers.normalization.BatchNormalization at 0x7f3db94806d8>,\n",
              " <keras.layers.advanced_activations.ReLU at 0x7f3db9480208>,\n",
              " <keras.layers.convolutional.DepthwiseConv2D at 0x7f3db941c978>,\n",
              " <keras.layers.normalization.BatchNormalization at 0x7f3db941c390>,\n",
              " <keras.layers.advanced_activations.ReLU at 0x7f3db9444518>,\n",
              " <keras.layers.convolutional.Conv2D at 0x7f3db9448b70>,\n",
              " <keras.layers.normalization.BatchNormalization at 0x7f3db93d0128>,\n",
              " <keras.layers.advanced_activations.ReLU at 0x7f3db93e2da0>,\n",
              " <keras.layers.convolutional.DepthwiseConv2D at 0x7f3db93fbfd0>,\n",
              " <keras.layers.normalization.BatchNormalization at 0x7f3db9392e80>,\n",
              " <keras.layers.advanced_activations.ReLU at 0x7f3db93a6eb8>,\n",
              " <keras.layers.convolutional.Conv2D at 0x7f3db93aec88>,\n",
              " <keras.layers.normalization.BatchNormalization at 0x7f3db93c0ac8>,\n",
              " <keras.layers.advanced_activations.ReLU at 0x7f3db93c05f8>,\n",
              " <keras.layers.convolutional.DepthwiseConv2D at 0x7f3db935bd68>,\n",
              " <keras.layers.normalization.BatchNormalization at 0x7f3db9373a20>,\n",
              " <keras.layers.advanced_activations.ReLU at 0x7f3db9384080>,\n",
              " <keras.layers.convolutional.Conv2D at 0x7f3db938bf60>,\n",
              " <keras.layers.normalization.BatchNormalization at 0x7f3db9310630>,\n",
              " <keras.layers.advanced_activations.ReLU at 0x7f3db9323ef0>,\n",
              " <keras.layers.convolutional.DepthwiseConv2D at 0x7f3db933f780>,\n",
              " <keras.layers.normalization.BatchNormalization at 0x7f3db933f198>,\n",
              " <keras.layers.advanced_activations.ReLU at 0x7f3db92eaeb8>,\n",
              " <keras.layers.convolutional.Conv2D at 0x7f3db92eff98>,\n",
              " <keras.layers.normalization.BatchNormalization at 0x7f3db9301eb8>,\n",
              " <keras.layers.advanced_activations.ReLU at 0x7f3db9307ba8>,\n",
              " <keras.layers.convolutional.ZeroPadding2D at 0x7f3db929cdd8>,\n",
              " <keras.layers.convolutional.DepthwiseConv2D at 0x7f3db929ccc0>,\n",
              " <keras.layers.normalization.BatchNormalization at 0x7f3db92bcb38>,\n",
              " <keras.layers.advanced_activations.ReLU at 0x7f3db92c4cf8>,\n",
              " <keras.layers.convolutional.Conv2D at 0x7f3db9250d30>,\n",
              " <keras.layers.normalization.BatchNormalization at 0x7f3db9263b70>,\n",
              " <keras.layers.advanced_activations.ReLU at 0x7f3db92636a0>,\n",
              " <keras.layers.convolutional.DepthwiseConv2D at 0x7f3db927de10>,\n",
              " <keras.layers.normalization.BatchNormalization at 0x7f3db9217be0>,\n",
              " <keras.layers.advanced_activations.ReLU at 0x7f3db921ffd0>,\n",
              " <keras.layers.convolutional.Conv2D at 0x7f3db922efd0>,\n",
              " <keras.layers.normalization.BatchNormalization at 0x7f3db9248588>,\n",
              " <keras.layers.advanced_activations.ReLU at 0x7f3db92481d0>,\n",
              " <keras.layers.pooling.GlobalAveragePooling2D at 0x7f3db91e4828>,\n",
              " <keras.layers.core.Reshape at 0x7f3db91e4748>,\n",
              " <keras.layers.core.Dropout at 0x7f3db91e47b8>,\n",
              " <keras.layers.convolutional.Conv2D at 0x7f3db91e4d68>,\n",
              " <keras.layers.core.Reshape at 0x7f3db9193f98>,\n",
              " <keras.layers.core.Activation at 0x7f3db9193fd0>]"
            ]
          },
          "metadata": {
            "tags": []
          },
          "execution_count": 6
        }
      ]
    },
    {
      "cell_type": "code",
      "metadata": {
        "id": "a-wHfXUOYIBo",
        "colab_type": "code",
        "colab": {
          "base_uri": "https://localhost:8080/",
          "height": 34
        },
        "outputId": "8e1d7fdf-87c0-4bb7-d7bc-632feb95f119"
      },
      "source": [
        "model.layers[1].input"
      ],
      "execution_count": 10,
      "outputs": [
        {
          "output_type": "execute_result",
          "data": {
            "text/plain": [
              "<tf.Tensor 'input_2:0' shape=(None, 224, 224, 3) dtype=float32>"
            ]
          },
          "metadata": {
            "tags": []
          },
          "execution_count": 10
        }
      ]
    },
    {
      "cell_type": "code",
      "metadata": {
        "id": "pPMEYGFgYVkW",
        "colab_type": "code",
        "colab": {
          "base_uri": "https://localhost:8080/",
          "height": 34
        },
        "outputId": "87c7241e-0a51-4ac9-f28b-c282093bc065"
      },
      "source": [
        "# we will freeze everything - transfer learning\n",
        "# add one more fc layer\n",
        "model.layers[23].__class__.__name__"
      ],
      "execution_count": 16,
      "outputs": [
        {
          "output_type": "execute_result",
          "data": {
            "text/plain": [
              "'ReLU'"
            ]
          },
          "metadata": {
            "tags": []
          },
          "execution_count": 16
        }
      ]
    },
    {
      "cell_type": "code",
      "metadata": {
        "id": "UAEFzekiY646",
        "colab_type": "code",
        "colab": {
          "base_uri": "https://localhost:8080/",
          "height": 34
        },
        "outputId": "b1535605-70f2-4637-d57f-464ab39464ec"
      },
      "source": [
        "model.layers[11].trainable\n",
        "# all the layers are trainble so we have to make false"
      ],
      "execution_count": 20,
      "outputs": [
        {
          "output_type": "execute_result",
          "data": {
            "text/plain": [
              "True"
            ]
          },
          "metadata": {
            "tags": []
          },
          "execution_count": 20
        }
      ]
    },
    {
      "cell_type": "code",
      "metadata": {
        "id": "n8GmPkvNZGqK",
        "colab_type": "code",
        "colab": {}
      },
      "source": [
        "# now We will freeze layers we don't want to retrain\n",
        "model.layers[2].trainable = False"
      ],
      "execution_count": 0,
      "outputs": []
    },
    {
      "cell_type": "code",
      "metadata": {
        "id": "E4oPKLXrbvzJ",
        "colab_type": "code",
        "colab": {
          "base_uri": "https://localhost:8080/",
          "height": 34
        },
        "outputId": "5e408dd9-0ead-4505-8beb-4abb91402f61"
      },
      "source": [
        "model.layers[2].trainable"
      ],
      "execution_count": 32,
      "outputs": [
        {
          "output_type": "execute_result",
          "data": {
            "text/plain": [
              "False"
            ]
          },
          "metadata": {
            "tags": []
          },
          "execution_count": 32
        }
      ]
    },
    {
      "cell_type": "code",
      "metadata": {
        "id": "z6PJe5vIb24p",
        "colab_type": "code",
        "colab": {}
      },
      "source": [
        "for layer in model.layers:\n",
        "  \n",
        "  layer.trainable = False"
      ],
      "execution_count": 0,
      "outputs": []
    },
    {
      "cell_type": "code",
      "metadata": {
        "id": "S0ZXraeTc-CJ",
        "colab_type": "code",
        "colab": {
          "base_uri": "https://localhost:8080/",
          "height": 34
        },
        "outputId": "c0631357-603b-407b-90f2-b7d595b343f7"
      },
      "source": [
        "model.layers[3].trainable"
      ],
      "execution_count": 37,
      "outputs": [
        {
          "output_type": "execute_result",
          "data": {
            "text/plain": [
              "False"
            ]
          },
          "metadata": {
            "tags": []
          },
          "execution_count": 37
        }
      ]
    },
    {
      "cell_type": "code",
      "metadata": {
        "id": "oLSsksd1dJM1",
        "colab_type": "code",
        "colab": {}
      },
      "source": [
        "from keras.models import Sequential "
      ],
      "execution_count": 0,
      "outputs": []
    },
    {
      "cell_type": "code",
      "metadata": {
        "id": "pN6_247Jgk19",
        "colab_type": "code",
        "colab": {}
      },
      "source": [
        "from keras.layers import Dense"
      ],
      "execution_count": 0,
      "outputs": []
    },
    {
      "cell_type": "code",
      "metadata": {
        "id": "X0CJxT9TgpqK",
        "colab_type": "code",
        "colab": {
          "base_uri": "https://localhost:8080/",
          "height": 34
        },
        "outputId": "ee7dc90a-eddb-4688-c454-9e3b2c645ffd"
      },
      "source": [
        "model.output\n",
        "# so basically include at the starting layer will removed the last layer that was softmax"
      ],
      "execution_count": 46,
      "outputs": [
        {
          "output_type": "execute_result",
          "data": {
            "text/plain": [
              "<tf.Tensor 'conv_pw_13_relu_3/Relu6:0' shape=(None, 7, 7, 1024) dtype=float32>"
            ]
          },
          "metadata": {
            "tags": []
          },
          "execution_count": 46
        }
      ]
    },
    {
      "cell_type": "code",
      "metadata": {
        "id": "MRI-X2Hxg8kq",
        "colab_type": "code",
        "colab": {}
      },
      "source": [
        "top_model = model.output"
      ],
      "execution_count": 0,
      "outputs": []
    },
    {
      "cell_type": "markdown",
      "metadata": {
        "id": "quNTDvNOiGBU",
        "colab_type": "text"
      },
      "source": [
        "after this layer we will add dense layers\n"
      ]
    },
    {
      "cell_type": "code",
      "metadata": {
        "id": "WpZtryiQhlsP",
        "colab_type": "code",
        "colab": {}
      },
      "source": [
        "top_model = Dense(1024 , activation='relu')(top_model)"
      ],
      "execution_count": 0,
      "outputs": []
    },
    {
      "cell_type": "code",
      "metadata": {
        "id": "T2frfO66jJ4f",
        "colab_type": "code",
        "colab": {}
      },
      "source": [
        "top_model = Dense(1024 , activation='relu' )(top_model)"
      ],
      "execution_count": 0,
      "outputs": []
    },
    {
      "cell_type": "code",
      "metadata": {
        "id": "YvHeyh_XjSuG",
        "colab_type": "code",
        "colab": {}
      },
      "source": [
        "top_model = Dense (1024 , activation='relu')(top_model)"
      ],
      "execution_count": 0,
      "outputs": []
    },
    {
      "cell_type": "code",
      "metadata": {
        "id": "uFnS0HtSjbeu",
        "colab_type": "code",
        "colab": {
          "base_uri": "https://localhost:8080/",
          "height": 34
        },
        "outputId": "af8f0225-5948-4ee1-e502-29050a244fcf"
      },
      "source": [
        "model.output"
      ],
      "execution_count": 56,
      "outputs": [
        {
          "output_type": "execute_result",
          "data": {
            "text/plain": [
              "<tf.Tensor 'conv_pw_13_relu_3/Relu6:0' shape=(None, 7, 7, 1024) dtype=float32>"
            ]
          },
          "metadata": {
            "tags": []
          },
          "execution_count": 56
        }
      ]
    },
    {
      "cell_type": "code",
      "metadata": {
        "id": "FzgsYSGCjfq_",
        "colab_type": "code",
        "colab": {}
      },
      "source": [
        "from keras.models import Model"
      ],
      "execution_count": 0,
      "outputs": []
    },
    {
      "cell_type": "code",
      "metadata": {
        "id": "i1sIqItqjmP7",
        "colab_type": "code",
        "colab": {
          "base_uri": "https://localhost:8080/",
          "height": 34
        },
        "outputId": "7e308b98-c016-46c1-fafc-6b300ad9c2dc"
      },
      "source": [
        "model.input"
      ],
      "execution_count": 58,
      "outputs": [
        {
          "output_type": "execute_result",
          "data": {
            "text/plain": [
              "<tf.Tensor 'input_4:0' shape=(None, 224, 224, 3) dtype=float32>"
            ]
          },
          "metadata": {
            "tags": []
          },
          "execution_count": 58
        }
      ]
    },
    {
      "cell_type": "code",
      "metadata": {
        "id": "s1deHN_7jqGL",
        "colab_type": "code",
        "colab": {
          "base_uri": "https://localhost:8080/",
          "height": 34
        },
        "outputId": "46d5dad7-f342-48be-c019-2b6941e8ded6"
      },
      "source": [
        "top_model"
      ],
      "execution_count": 60,
      "outputs": [
        {
          "output_type": "execute_result",
          "data": {
            "text/plain": [
              "<tf.Tensor 'dense_3/Relu:0' shape=(None, 7, 7, 1024) dtype=float32>"
            ]
          },
          "metadata": {
            "tags": []
          },
          "execution_count": 60
        }
      ]
    },
    {
      "cell_type": "code",
      "metadata": {
        "id": "p57PKp9Qjt3A",
        "colab_type": "code",
        "colab": {}
      },
      "source": [
        "newmodel  = Model(inputs = model.input , outputs = top_model )"
      ],
      "execution_count": 0,
      "outputs": []
    },
    {
      "cell_type": "code",
      "metadata": {
        "id": "E_qwQZnWj6An",
        "colab_type": "code",
        "colab": {
          "base_uri": "https://localhost:8080/",
          "height": 34
        },
        "outputId": "805c6b73-8f9c-4c6b-b791-6287110c3ff2"
      },
      "source": [
        "newmodel"
      ],
      "execution_count": 63,
      "outputs": [
        {
          "output_type": "execute_result",
          "data": {
            "text/plain": [
              "<keras.engine.training.Model at 0x7f3db84f2358>"
            ]
          },
          "metadata": {
            "tags": []
          },
          "execution_count": 63
        }
      ]
    },
    {
      "cell_type": "code",
      "metadata": {
        "id": "Qh1SbRjmj7pc",
        "colab_type": "code",
        "colab": {}
      },
      "source": [
        "model.summary()"
      ],
      "execution_count": 0,
      "outputs": []
    },
    {
      "cell_type": "code",
      "metadata": {
        "id": "Yz0LEWk9kC-y",
        "colab_type": "code",
        "colab": {}
      },
      "source": [
        "top_model = Dense(10, activation='softmax')(top_model)"
      ],
      "execution_count": 0,
      "outputs": []
    },
    {
      "cell_type": "code",
      "metadata": {
        "id": "YFwGzinVkUKB",
        "colab_type": "code",
        "colab": {
          "base_uri": "https://localhost:8080/",
          "height": 1000
        },
        "outputId": "78a2620a-f955-4bd8-8482-f2eee3d8095e"
      },
      "source": [
        "model.summary()"
      ],
      "execution_count": 69,
      "outputs": [
        {
          "output_type": "stream",
          "text": [
            "Model: \"mobilenet_1.00_224\"\n",
            "_________________________________________________________________\n",
            "Layer (type)                 Output Shape              Param #   \n",
            "=================================================================\n",
            "input_4 (InputLayer)         (None, 224, 224, 3)       0         \n",
            "_________________________________________________________________\n",
            "conv1_pad (ZeroPadding2D)    (None, 225, 225, 3)       0         \n",
            "_________________________________________________________________\n",
            "conv1 (Conv2D)               (None, 112, 112, 32)      864       \n",
            "_________________________________________________________________\n",
            "conv1_bn (BatchNormalization (None, 112, 112, 32)      128       \n",
            "_________________________________________________________________\n",
            "conv1_relu (ReLU)            (None, 112, 112, 32)      0         \n",
            "_________________________________________________________________\n",
            "conv_dw_1 (DepthwiseConv2D)  (None, 112, 112, 32)      288       \n",
            "_________________________________________________________________\n",
            "conv_dw_1_bn (BatchNormaliza (None, 112, 112, 32)      128       \n",
            "_________________________________________________________________\n",
            "conv_dw_1_relu (ReLU)        (None, 112, 112, 32)      0         \n",
            "_________________________________________________________________\n",
            "conv_pw_1 (Conv2D)           (None, 112, 112, 64)      2048      \n",
            "_________________________________________________________________\n",
            "conv_pw_1_bn (BatchNormaliza (None, 112, 112, 64)      256       \n",
            "_________________________________________________________________\n",
            "conv_pw_1_relu (ReLU)        (None, 112, 112, 64)      0         \n",
            "_________________________________________________________________\n",
            "conv_pad_2 (ZeroPadding2D)   (None, 113, 113, 64)      0         \n",
            "_________________________________________________________________\n",
            "conv_dw_2 (DepthwiseConv2D)  (None, 56, 56, 64)        576       \n",
            "_________________________________________________________________\n",
            "conv_dw_2_bn (BatchNormaliza (None, 56, 56, 64)        256       \n",
            "_________________________________________________________________\n",
            "conv_dw_2_relu (ReLU)        (None, 56, 56, 64)        0         \n",
            "_________________________________________________________________\n",
            "conv_pw_2 (Conv2D)           (None, 56, 56, 128)       8192      \n",
            "_________________________________________________________________\n",
            "conv_pw_2_bn (BatchNormaliza (None, 56, 56, 128)       512       \n",
            "_________________________________________________________________\n",
            "conv_pw_2_relu (ReLU)        (None, 56, 56, 128)       0         \n",
            "_________________________________________________________________\n",
            "conv_dw_3 (DepthwiseConv2D)  (None, 56, 56, 128)       1152      \n",
            "_________________________________________________________________\n",
            "conv_dw_3_bn (BatchNormaliza (None, 56, 56, 128)       512       \n",
            "_________________________________________________________________\n",
            "conv_dw_3_relu (ReLU)        (None, 56, 56, 128)       0         \n",
            "_________________________________________________________________\n",
            "conv_pw_3 (Conv2D)           (None, 56, 56, 128)       16384     \n",
            "_________________________________________________________________\n",
            "conv_pw_3_bn (BatchNormaliza (None, 56, 56, 128)       512       \n",
            "_________________________________________________________________\n",
            "conv_pw_3_relu (ReLU)        (None, 56, 56, 128)       0         \n",
            "_________________________________________________________________\n",
            "conv_pad_4 (ZeroPadding2D)   (None, 57, 57, 128)       0         \n",
            "_________________________________________________________________\n",
            "conv_dw_4 (DepthwiseConv2D)  (None, 28, 28, 128)       1152      \n",
            "_________________________________________________________________\n",
            "conv_dw_4_bn (BatchNormaliza (None, 28, 28, 128)       512       \n",
            "_________________________________________________________________\n",
            "conv_dw_4_relu (ReLU)        (None, 28, 28, 128)       0         \n",
            "_________________________________________________________________\n",
            "conv_pw_4 (Conv2D)           (None, 28, 28, 256)       32768     \n",
            "_________________________________________________________________\n",
            "conv_pw_4_bn (BatchNormaliza (None, 28, 28, 256)       1024      \n",
            "_________________________________________________________________\n",
            "conv_pw_4_relu (ReLU)        (None, 28, 28, 256)       0         \n",
            "_________________________________________________________________\n",
            "conv_dw_5 (DepthwiseConv2D)  (None, 28, 28, 256)       2304      \n",
            "_________________________________________________________________\n",
            "conv_dw_5_bn (BatchNormaliza (None, 28, 28, 256)       1024      \n",
            "_________________________________________________________________\n",
            "conv_dw_5_relu (ReLU)        (None, 28, 28, 256)       0         \n",
            "_________________________________________________________________\n",
            "conv_pw_5 (Conv2D)           (None, 28, 28, 256)       65536     \n",
            "_________________________________________________________________\n",
            "conv_pw_5_bn (BatchNormaliza (None, 28, 28, 256)       1024      \n",
            "_________________________________________________________________\n",
            "conv_pw_5_relu (ReLU)        (None, 28, 28, 256)       0         \n",
            "_________________________________________________________________\n",
            "conv_pad_6 (ZeroPadding2D)   (None, 29, 29, 256)       0         \n",
            "_________________________________________________________________\n",
            "conv_dw_6 (DepthwiseConv2D)  (None, 14, 14, 256)       2304      \n",
            "_________________________________________________________________\n",
            "conv_dw_6_bn (BatchNormaliza (None, 14, 14, 256)       1024      \n",
            "_________________________________________________________________\n",
            "conv_dw_6_relu (ReLU)        (None, 14, 14, 256)       0         \n",
            "_________________________________________________________________\n",
            "conv_pw_6 (Conv2D)           (None, 14, 14, 512)       131072    \n",
            "_________________________________________________________________\n",
            "conv_pw_6_bn (BatchNormaliza (None, 14, 14, 512)       2048      \n",
            "_________________________________________________________________\n",
            "conv_pw_6_relu (ReLU)        (None, 14, 14, 512)       0         \n",
            "_________________________________________________________________\n",
            "conv_dw_7 (DepthwiseConv2D)  (None, 14, 14, 512)       4608      \n",
            "_________________________________________________________________\n",
            "conv_dw_7_bn (BatchNormaliza (None, 14, 14, 512)       2048      \n",
            "_________________________________________________________________\n",
            "conv_dw_7_relu (ReLU)        (None, 14, 14, 512)       0         \n",
            "_________________________________________________________________\n",
            "conv_pw_7 (Conv2D)           (None, 14, 14, 512)       262144    \n",
            "_________________________________________________________________\n",
            "conv_pw_7_bn (BatchNormaliza (None, 14, 14, 512)       2048      \n",
            "_________________________________________________________________\n",
            "conv_pw_7_relu (ReLU)        (None, 14, 14, 512)       0         \n",
            "_________________________________________________________________\n",
            "conv_dw_8 (DepthwiseConv2D)  (None, 14, 14, 512)       4608      \n",
            "_________________________________________________________________\n",
            "conv_dw_8_bn (BatchNormaliza (None, 14, 14, 512)       2048      \n",
            "_________________________________________________________________\n",
            "conv_dw_8_relu (ReLU)        (None, 14, 14, 512)       0         \n",
            "_________________________________________________________________\n",
            "conv_pw_8 (Conv2D)           (None, 14, 14, 512)       262144    \n",
            "_________________________________________________________________\n",
            "conv_pw_8_bn (BatchNormaliza (None, 14, 14, 512)       2048      \n",
            "_________________________________________________________________\n",
            "conv_pw_8_relu (ReLU)        (None, 14, 14, 512)       0         \n",
            "_________________________________________________________________\n",
            "conv_dw_9 (DepthwiseConv2D)  (None, 14, 14, 512)       4608      \n",
            "_________________________________________________________________\n",
            "conv_dw_9_bn (BatchNormaliza (None, 14, 14, 512)       2048      \n",
            "_________________________________________________________________\n",
            "conv_dw_9_relu (ReLU)        (None, 14, 14, 512)       0         \n",
            "_________________________________________________________________\n",
            "conv_pw_9 (Conv2D)           (None, 14, 14, 512)       262144    \n",
            "_________________________________________________________________\n",
            "conv_pw_9_bn (BatchNormaliza (None, 14, 14, 512)       2048      \n",
            "_________________________________________________________________\n",
            "conv_pw_9_relu (ReLU)        (None, 14, 14, 512)       0         \n",
            "_________________________________________________________________\n",
            "conv_dw_10 (DepthwiseConv2D) (None, 14, 14, 512)       4608      \n",
            "_________________________________________________________________\n",
            "conv_dw_10_bn (BatchNormaliz (None, 14, 14, 512)       2048      \n",
            "_________________________________________________________________\n",
            "conv_dw_10_relu (ReLU)       (None, 14, 14, 512)       0         \n",
            "_________________________________________________________________\n",
            "conv_pw_10 (Conv2D)          (None, 14, 14, 512)       262144    \n",
            "_________________________________________________________________\n",
            "conv_pw_10_bn (BatchNormaliz (None, 14, 14, 512)       2048      \n",
            "_________________________________________________________________\n",
            "conv_pw_10_relu (ReLU)       (None, 14, 14, 512)       0         \n",
            "_________________________________________________________________\n",
            "conv_dw_11 (DepthwiseConv2D) (None, 14, 14, 512)       4608      \n",
            "_________________________________________________________________\n",
            "conv_dw_11_bn (BatchNormaliz (None, 14, 14, 512)       2048      \n",
            "_________________________________________________________________\n",
            "conv_dw_11_relu (ReLU)       (None, 14, 14, 512)       0         \n",
            "_________________________________________________________________\n",
            "conv_pw_11 (Conv2D)          (None, 14, 14, 512)       262144    \n",
            "_________________________________________________________________\n",
            "conv_pw_11_bn (BatchNormaliz (None, 14, 14, 512)       2048      \n",
            "_________________________________________________________________\n",
            "conv_pw_11_relu (ReLU)       (None, 14, 14, 512)       0         \n",
            "_________________________________________________________________\n",
            "conv_pad_12 (ZeroPadding2D)  (None, 15, 15, 512)       0         \n",
            "_________________________________________________________________\n",
            "conv_dw_12 (DepthwiseConv2D) (None, 7, 7, 512)         4608      \n",
            "_________________________________________________________________\n",
            "conv_dw_12_bn (BatchNormaliz (None, 7, 7, 512)         2048      \n",
            "_________________________________________________________________\n",
            "conv_dw_12_relu (ReLU)       (None, 7, 7, 512)         0         \n",
            "_________________________________________________________________\n",
            "conv_pw_12 (Conv2D)          (None, 7, 7, 1024)        524288    \n",
            "_________________________________________________________________\n",
            "conv_pw_12_bn (BatchNormaliz (None, 7, 7, 1024)        4096      \n",
            "_________________________________________________________________\n",
            "conv_pw_12_relu (ReLU)       (None, 7, 7, 1024)        0         \n",
            "_________________________________________________________________\n",
            "conv_dw_13 (DepthwiseConv2D) (None, 7, 7, 1024)        9216      \n",
            "_________________________________________________________________\n",
            "conv_dw_13_bn (BatchNormaliz (None, 7, 7, 1024)        4096      \n",
            "_________________________________________________________________\n",
            "conv_dw_13_relu (ReLU)       (None, 7, 7, 1024)        0         \n",
            "_________________________________________________________________\n",
            "conv_pw_13 (Conv2D)          (None, 7, 7, 1024)        1048576   \n",
            "_________________________________________________________________\n",
            "conv_pw_13_bn (BatchNormaliz (None, 7, 7, 1024)        4096      \n",
            "_________________________________________________________________\n",
            "conv_pw_13_relu (ReLU)       (None, 7, 7, 1024)        0         \n",
            "=================================================================\n",
            "Total params: 3,228,864\n",
            "Trainable params: 3,206,976\n",
            "Non-trainable params: 21,888\n",
            "_________________________________________________________________\n"
          ],
          "name": "stdout"
        }
      ]
    },
    {
      "cell_type": "code",
      "metadata": {
        "id": "UoKk9dRZkWQS",
        "colab_type": "code",
        "colab": {}
      },
      "source": [
        ""
      ],
      "execution_count": 0,
      "outputs": []
    }
  ]
}