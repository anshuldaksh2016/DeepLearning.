{
  "nbformat": 4,
  "nbformat_minor": 0,
  "metadata": {
    "colab": {
      "name": "mnist.ipynb",
      "provenance": [],
      "authorship_tag": "ABX9TyNr5i2I8cNlKf/n3R17M5lQ",
      "include_colab_link": true
    },
    "kernelspec": {
      "name": "python3",
      "display_name": "Python 3"
    },
    "accelerator": "GPU"
  },
  "cells": [
    {
      "cell_type": "markdown",
      "metadata": {
        "id": "view-in-github",
        "colab_type": "text"
      },
      "source": [
        "<a href=\"https://colab.research.google.com/github/anshuldaksh2016/DeepLearning./blob/master/mnist.ipynb\" target=\"_parent\"><img src=\"https://colab.research.google.com/assets/colab-badge.svg\" alt=\"Open In Colab\"/></a>"
      ]
    },
    {
      "cell_type": "code",
      "metadata": {
        "id": "5DxECl25ajBx",
        "colab_type": "code",
        "colab": {
          "base_uri": "https://localhost:8080/",
          "height": 34
        },
        "outputId": "09de2f91-71d9-4296-ba12-22a2e90515ba"
      },
      "source": [
        "import keras\n",
        "from keras.datasets import mnist\n",
        "from keras.models import Sequential\n",
        "from keras.utils.np_utils import to_categorical\n",
        "from keras.layers import Dense\n",
        "from keras.optimizers import Adam\n",
        "from keras.backend import clear_session\n",
        "import numpy\n"
      ],
      "execution_count": 1,
      "outputs": [
        {
          "output_type": "stream",
          "text": [
            "Using TensorFlow backend.\n"
          ],
          "name": "stderr"
        }
      ]
    },
    {
      "cell_type": "code",
      "metadata": {
        "id": "sm9S0ocEaqcb",
        "colab_type": "code",
        "colab": {}
      },
      "source": [
        "def train_model(neurons , model , epochs , test) : \n",
        "\tprint(\"\\n\" , \" *** Summary *** \" , \"\\n\", \"Iteration  : \", test , \"\\n\" , \"   Number of Neurons : \", neurons , \"\\n\" , \"   Number of Epochs : \",  epochs)\n",
        "\tmodel.add(Dense(units = neurons , input_dim = 28*28 , activation = 'relu'))\n",
        "\tmodel.add(Dense(units=200 , input_dim = 28*28 , activation = 'relu'))\n",
        "\tmodel.add(Dense(units=60 , input_dim = 28*28 , activation = 'relu'))\n",
        "\tmodel.add(Dense(units=10 , input_dim = 28*28 , activation = 'softmax'))\n",
        "\tmodel.compile( optimizer= \"Adam\" , loss='categorical_crossentropy', \n",
        "\t             metrics=['accuracy'] )\n",
        "\treturn model"
      ],
      "execution_count": 0,
      "outputs": []
    },
    {
      "cell_type": "code",
      "metadata": {
        "id": "ljlOXltNa75X",
        "colab_type": "code",
        "colab": {}
      },
      "source": [
        "def validate(fit_model, epochs):\n",
        "\ttext = fit_model.history\n",
        "\taccuracy = text['accuracy'][epochs-1] * 100\n",
        "\taccuracy = int(accuracy)\n",
        "\tf= open(\"accuracy.txt\",\"w+\")\n",
        "\tf.write(str(accuracy))\n",
        "\tf.close()\n",
        "\tprint(\"    Accuracy for this Iteration is : \" , accuracy ,\"%\")\n",
        "\treturn accuracy"
      ],
      "execution_count": 0,
      "outputs": []
    },
    {
      "cell_type": "code",
      "metadata": {
        "id": "PJNGIH0FbAeE",
        "colab_type": "code",
        "colab": {
          "base_uri": "https://localhost:8080/",
          "height": 51
        },
        "outputId": "b2713bc2-e230-45d0-fca6-2dc72ac5969c"
      },
      "source": [
        "# Load Model \n",
        "(train_X , train_y), (test_X , test_y) = mnist.load_data(\"mymnist.data\")\n",
        "# Reshape data and change type\n",
        "test_X = test_X.reshape(-1 , 28*28)\n",
        "train_X = train_X.reshape(-1 ,  28*28)\n",
        "test_X = test_X.astype(\"float32\")\n",
        "train_X = train_X.astype(\"float32\")\n",
        "# One hot encoding \n",
        "test_y = to_categorical(test_y)\n",
        "train_y = to_categorical(train_y)\n",
        "#Initials\n",
        "neurons = 10\n",
        "accuracy = 0\n",
        "epochs = 1\n",
        "test = 1\n",
        "flag = 0"
      ],
      "execution_count": 4,
      "outputs": [
        {
          "output_type": "stream",
          "text": [
            "Downloading data from https://s3.amazonaws.com/img-datasets/mnist.npz\n",
            "11493376/11490434 [==============================] - 2s 0us/step\n"
          ],
          "name": "stdout"
        }
      ]
    },
    {
      "cell_type": "code",
      "metadata": {
        "id": "hhaKOvK-bGEY",
        "colab_type": "code",
        "colab": {
          "base_uri": "https://localhost:8080/",
          "height": 255
        },
        "outputId": "c6c868ce-efda-485b-ba86-f8f70d2043cc"
      },
      "source": [
        "while int(accuracy) < 90 :\n",
        "\tif flag == 1 :\n",
        "\t\tmodel = keras.backend.clear_session()\n",
        "\t\tneurons = neurons+10\n",
        "\t\tepochs = epochs+1 \n",
        "\t\ttest = test + 1\n",
        "\t#model=reset_weights(model)\n",
        "\tmodel = Sequential()\n",
        "\tmodel = train_model(neurons , model , epochs , test)\n",
        "\tprint(\"    calculating accuracy . . .\")\n",
        "\tfit_model = model.fit(train_X ,  train_y , epochs = epochs , verbose =  False)\n",
        "\taccuracy=validate(fit_model , epochs)\n",
        "\tflag = 1"
      ],
      "execution_count": 5,
      "outputs": [
        {
          "output_type": "stream",
          "text": [
            "\n",
            "  *** Summary ***  \n",
            " Iteration  :  1 \n",
            "    Number of Neurons :  10 \n",
            "    Number of Epochs :  1\n",
            "    calculating accuracy . . .\n",
            "    Accuracy for this Iteration is :  55 %\n",
            "\n",
            "  *** Summary ***  \n",
            " Iteration  :  2 \n",
            "    Number of Neurons :  20 \n",
            "    Number of Epochs :  2\n",
            "    calculating accuracy . . .\n",
            "    Accuracy for this Iteration is :  91 %\n"
          ],
          "name": "stdout"
        }
      ]
    },
    {
      "cell_type": "code",
      "metadata": {
        "id": "Ix3LxWJmbMpc",
        "colab_type": "code",
        "colab": {}
      },
      "source": [
        ""
      ],
      "execution_count": 0,
      "outputs": []
    }
  ]
}